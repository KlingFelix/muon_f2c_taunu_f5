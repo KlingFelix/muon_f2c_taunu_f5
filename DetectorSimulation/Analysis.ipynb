{
 "cells": [
  {
   "cell_type": "markdown",
   "metadata": {},
   "source": [
    "# Analysis Code "
   ]
  },
  {
   "cell_type": "markdown",
   "metadata": {},
   "source": [
    "At first, I load all the libraries we will need later on."
   ]
  },
  {
   "cell_type": "code",
   "execution_count": 1,
   "metadata": {},
   "outputs": [],
   "source": [
    "import numpy as np\n",
    "import matplotlib\n",
    "from matplotlib import pyplot as plt\n",
    "\n",
    "from FASERnu_DetectorSim import FASERvDetectorSimulation"
   ]
  },
  {
   "cell_type": "code",
   "execution_count": 2,
   "metadata": {},
   "outputs": [],
   "source": [
    "matplotlib.rcParams.update({'font.size': 15})"
   ]
  },
  {
   "cell_type": "code",
   "execution_count": 12,
   "metadata": {},
   "outputs": [
    {
     "name": "stdout",
     "output_type": "stream",
     "text": [
      "-- open file pythia.hepmc\n",
      "-- output is stored in out.json\n",
      "-- open file pythia.hepmc\n",
      "-- output is stored in out.json\n"
     ]
    }
   ],
   "source": [
    "sim = FASERvDetectorSimulation(debug=False)\n",
    "sim.set_detector(sigma_track_momentum=0.3)\n",
    "output1 = sim.simulate(\"pythia.hepmc\", 'out.json')\n",
    "\n",
    "sim.set_detector(sigma_track_momentum=0.1)\n",
    "output2 = sim.simulate(\"pythia.hepmc\", 'out.json')"
   ]
  },
  {
   "cell_type": "code",
   "execution_count": 13,
   "metadata": {},
   "outputs": [],
   "source": [
    "data1, data2 = [], []\n",
    "for key, value in output1.items():\n",
    "    data1.append([value['truth_kinematics']['x'], value['reco_kinematics']['x']])\n",
    "for key, value in output2.items():\n",
    "    data2.append([value['truth_kinematics']['x'], value['reco_kinematics']['x']])\n",
    "data1 = np.array(data1)\n",
    "data2 = np.array(data2)"
   ]
  },
  {
   "cell_type": "code",
   "execution_count": 14,
   "metadata": {},
   "outputs": [
    {
     "data": {
      "image/png": "[encoded data removed]",
      "text/plain": [
       "<Figure size 432x432 with 1 Axes>"
      ]
     },
     "metadata": {
      "needs_background": "light"
     },
     "output_type": "display_data"
    }
   ],
   "source": [
    "# initialize figure\n",
    "fig = plt.figure(figsize=(6,6))\n",
    "plt.scatter(data1.T[0], data1.T[1], label=r'$\\sigma_{p}/p=0.3$')\n",
    "plt.scatter(data2.T[0], data2.T[1], label=r'$\\sigma_{p}/p=0.1$')\n",
    "plt.xlim(1e-3,1)\n",
    "plt.ylim(1e-3,1)\n",
    "plt.xscale('log')\n",
    "plt.yscale('log')\n",
    "plt.xlabel(\"True x\")\n",
    "plt.ylabel(\"Reco x\")\n",
    "plt.legend()\n",
    "plt.show()"
   ]
  },
  {
   "cell_type": "code",
   "execution_count": null,
   "metadata": {},
   "outputs": [],
   "source": []
  },
  {
   "cell_type": "code",
   "execution_count": null,
   "metadata": {},
   "outputs": [],
   "source": []
  }
 ],
 "metadata": {
  "kernelspec": {
   "display_name": "Python 3",
   "language": "python",
   "name": "python3"
  },
  "language_info": {
   "codemirror_mode": {
    "name": "ipython",
    "version": 3
   },
   "file_extension": ".py",
   "mimetype": "text/x-python",
   "name": "python",
   "nbconvert_exporter": "python",
   "pygments_lexer": "ipython3",
   "version": "3.6.10"
  },
  "toc": {
   "base_numbering": 1,
   "nav_menu": {
    "height": "734px",
    "width": "465px"
   },
   "number_sections": true,
   "sideBar": true,
   "skip_h1_title": false,
   "title_cell": "Table of Contents",
   "title_sidebar": "Contents",
   "toc_cell": false,
   "toc_position": {},
   "toc_section_display": true,
   "toc_window_display": false
  }
 },
 "nbformat": 4,
 "nbformat_minor": 2
}
